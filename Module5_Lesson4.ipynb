{
 "cells": [
  {
   "cell_type": "code",
   "execution_count": 1,
   "metadata": {},
   "outputs": [],
   "source": [
    "import numpy\n",
    "from helper import l2_norm, poisson_2d_jacobi, poisson_solution"
   ]
  },
  {
   "cell_type": "code",
   "execution_count": 2,
   "metadata": {},
   "outputs": [],
   "source": [
    "nx = 101\n",
    "ny = 101\n",
    "ymin, ymax = -0.5, 0.5\n",
    "xmin, xmax = 0.0, 1.0\n",
    "Lx = xmax - xmin\n",
    "Ly = ymax - ymin\n",
    "dx = Lx/(nx - 1)\n",
    "dy = Ly/(ny - 1)\n",
    "\n",
    "x = numpy.linspace(xmin, xmax, num=nx)\n",
    "y = numpy.linspace(ymin, ymax, num=ny)\n",
    "X, Y = numpy.meshgrid(x, y)\n",
    "\n",
    "# create Poisson source term\n",
    "b = (-2.0 * (numpy.pi / 2)**2 *\n",
    "    numpy.sin(numpy.pi * X / Lx) *\n",
    "    numpy.cos(numpy.pi * Y / Ly))\n",
    "\n",
    "# set initial guess\n",
    "p0 = numpy.zeros((ny, nx))\n",
    "\n",
    "# compute exact solution of Poisson system\n",
    "pe = poisson_solution(x, y, Lx, Ly)"
   ]
  },
  {
   "cell_type": "code",
   "execution_count": 3,
   "metadata": {},
   "outputs": [],
   "source": [
    "def poisson_2d_steepest_descent(p0, b, dx, dy, maxiter=20000, rtol=1e-6):\n",
    "    def A(p):\n",
    "        #compute laplacian of p\n",
    "        return((p[1:-1, :-2] - 2 * p[1:-1, 1:-1] + p[1:-1, 2:]) / dx**2 +\n",
    "               (p[:-2, 1:-1] - 2 * p[1:-1, 1:-1] + p[2:, 1:-1]) / dy**2)\n",
    "    p = p0.copy()\n",
    "    diff = rtol + 1\n",
    "    ite = 0\n",
    "    rk = numpy.zeros_like(p)\n",
    "    Ar = numpy.zeros_like(p)\n",
    "    while diff > rtol and ite < maxiter:\n",
    "        pk = p.copy()\n",
    "        # compute residual rk\n",
    "        rk[1:-1, 1:-1] = b[1:-1, 1:-1] - A(pk)\n",
    "        # compute step size alpha\n",
    "        Ar[1:-1, 1:-1] = A(rk)\n",
    "        alpha = numpy.sum(rk * rk) / numpy.sum(rk * Ar)\n",
    "        # update solution\n",
    "        p = pk + alpha * rk\n",
    "        # compute relative difference\n",
    "        diff = l2_norm(p, pk)\n",
    "        # increment iteration index\n",
    "        ite += 1\n",
    "    return p, ite, diff"
   ]
  },
  {
   "cell_type": "code",
   "execution_count": 4,
   "metadata": {},
   "outputs": [
    {
     "data": {
      "text/plain": [
       "(2, 1.2374874917997386e-16)"
      ]
     },
     "execution_count": 4,
     "metadata": {},
     "output_type": "execute_result"
    }
   ],
   "source": [
    "p, ites, diff = poisson_2d_steepest_descent(p0, b, dx, dy, rtol=1e-6)\n",
    "ites, diff"
   ]
  },
  {
   "cell_type": "code",
   "execution_count": 5,
   "metadata": {},
   "outputs": [],
   "source": [
    "b = (numpy.sin(numpy.pi * X / Lx) *\n",
    "     numpy.cos(numpy.pi * Y / Ly) +\n",
    "     numpy.sin(6.0 * numpy.pi * X / Lx) *\n",
    "     numpy.sin(6.0 * numpy.pi * Y / Ly))"
   ]
  },
  {
   "cell_type": "code",
   "execution_count": 10,
   "metadata": {},
   "outputs": [],
   "source": [
    "def poisson_2d_conjugate_gradient(p0, b, dx, dy, maxiter=20000, rtol=1e-6):\n",
    "    def A(p):\n",
    "        return((p[1:-1, :-2] - 2 * p[1:-1, 1:-1] + p[1:-1, 2:]) / dx**2 +\n",
    "               (p[:-2, 1:-1] - 2 * p[1:-1, 1:-1] + p[2:, 1:-1]) / dy**2)\n",
    "    p = p0.copy()\n",
    "    r = numpy.zeros_like(p)\n",
    "    Ad = numpy.zeros_like(p)\n",
    "\n",
    "    diff = rtol + 1\n",
    "    ite = 0\n",
    "    r[1:-1, 1:-1] = b[1:-1, 1:-1] - A(p)\n",
    "    d = r.copy()\n",
    "    while diff > rtol and ite < maxiter:\n",
    "        rk = r.copy()\n",
    "        pk = p.copy()\n",
    "        Ad[1:-1, 1:-1] = A(d)\n",
    "        alpha = numpy.sum(r * r) / numpy.sum(d * Ad)\n",
    "        \n",
    "        p = pk + alpha * d\n",
    "        r = rk - alpha * Ad\n",
    "        beta = numpy.sum(r * r) / numpy.sum(rk * rk)\n",
    "        d = r + beta * d\n",
    "        diff = l2_norm(p, pk)\n",
    "\n",
    "        ite += 1\n",
    "    return p, ite, diff\n",
    "        "
   ]
  },
  {
   "cell_type": "code",
   "execution_count": 11,
   "metadata": {},
   "outputs": [
    {
     "name": "stdout",
     "output_type": "stream",
     "text": [
      "3 2.4646085821771386e-14\n"
     ]
    }
   ],
   "source": [
    "p, ites, diff = poisson_2d_conjugate_gradient(p0, b, dx, dy, rtol=1e-10)\n",
    "print(ites, diff)"
   ]
  },
  {
   "cell_type": "code",
   "execution_count": null,
   "metadata": {},
   "outputs": [],
   "source": []
  }
 ],
 "metadata": {
  "kernelspec": {
   "display_name": "Python 3",
   "language": "python",
   "name": "python3"
  },
  "language_info": {
   "codemirror_mode": {
    "name": "ipython",
    "version": 3
   },
   "file_extension": ".py",
   "mimetype": "text/x-python",
   "name": "python",
   "nbconvert_exporter": "python",
   "pygments_lexer": "ipython3",
   "version": "3.7.3"
  }
 },
 "nbformat": 4,
 "nbformat_minor": 2
}
