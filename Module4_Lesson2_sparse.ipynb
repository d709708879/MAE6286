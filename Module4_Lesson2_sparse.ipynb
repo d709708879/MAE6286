{
 "cells": [
  {
   "cell_type": "code",
   "execution_count": 1,
   "metadata": {},
   "outputs": [],
   "source": [
    "from scipy.sparse import coo_matrix\n",
    "from matplotlib import pyplot\n",
    "import numpy\n",
    "\n",
    "%matplotlib inline"
   ]
  },
  {
   "cell_type": "code",
   "execution_count": 2,
   "metadata": {},
   "outputs": [
    {
     "data": {
      "text/plain": [
       "(0.0, 100.0)"
      ]
     },
     "execution_count": 2,
     "metadata": {},
     "output_type": "execute_result"
    },
    {
     "data": {
      "image/png": "[encoded data removed]",
      "text/plain": [
       "<Figure size 432x288 with 1 Axes>"
      ]
     },
     "metadata": {
      "needs_background": "light"
     },
     "output_type": "display_data"
    }
   ],
   "source": [
    "pyplot.rc('font', family='serif', size=16)\n",
    "# set parameters\n",
    "L = 1.0\n",
    "nx = 51\n",
    "dx = L / (nx-1)\n",
    "x = numpy.linspace(0.0, L, num=nx)\n",
    "\n",
    "alpha = 1.22e-3\n",
    "q = 0.0\n",
    "\n",
    "# set initial conditions\n",
    "T0 = numpy.zeros(nx)\n",
    "T0[0] = 100.0\n",
    "\n",
    "def btcs(u0, nt, dt, dx, alpha, q=0.0):\n",
    "    u = u0.copy()\n",
    "    sigma = alpha * dt / dx**2\n",
    "    A = lhs_operator(u0.size - 2, sigma)\n",
    "    for n in range(nt):\n",
    "        b = rhs_vector(u, sigma, q * dx)\n",
    "        u[1:-1] = numpy.linalg.solve(A, b)\n",
    "        # update boundary values\n",
    "        u[0] = u0[0]\n",
    "        u[-1] = u[-2] + q * dx\n",
    "    return u\n",
    "\n",
    "def lhs_operator(N, sigma):\n",
    "    # diagonal coefficients\n",
    "    row_D=numpy.array(numpy.arange(0,N,1))\n",
    "    col_D=numpy.array(numpy.arange(0,N,1))\n",
    "    data_D=numpy.array((2 + 1 / sigma) * numpy.ones(N))\n",
    "    D = coo_matrix((data_D, (row_D, col_D)), shape=(N, N)).toarray()\n",
    "    D[-1, -1] = 1 + 1 / sigma\n",
    "    # upper diagonal\n",
    "    row_U=numpy.array(numpy.arange(0,N-1,1))\n",
    "    col_U=numpy.array(numpy.arange(1,N,1))\n",
    "    data_U=numpy.array(-1.0 * numpy.ones(N - 1))\n",
    "    U = coo_matrix((data_U, (row_U, col_U)), shape=(N, N)).toarray()\n",
    "    # lower diagonal\n",
    "    row_L=numpy.array(numpy.arange(1,N,1))\n",
    "    col_L=numpy.array(numpy.arange(0,N-1,1))\n",
    "    data_L=numpy.array(-1.0 * numpy.ones(N - 1))\n",
    "    L = coo_matrix((data_L, (row_L, col_L)), shape=(N, N)).toarray()\n",
    "    # assemble A\n",
    "    A = D + U + L\n",
    "    return A\n",
    "\n",
    "def rhs_vector(T, sigma, qdx):\n",
    "    b = T[1:-1] / sigma\n",
    "    # dirichlet\n",
    "    b[0] += T[0]\n",
    "    # neumann\n",
    "    b[-1] += qdx\n",
    "    return b\n",
    "nt = 1000\n",
    "sigma = 0.5\n",
    "dt = sigma * dx**2 / alpha\n",
    "\n",
    "T = btcs(T0, nt, dt, dx, alpha, q=0.0)\n",
    "\n",
    "pyplot.plot(x, T)\n",
    "pyplot.xlim(0.0, L)\n",
    "pyplot.ylim(0.0, 100.0)"
   ]
  },
  {
   "cell_type": "code",
   "execution_count": null,
   "metadata": {},
   "outputs": [],
   "source": []
  }
 ],
 "metadata": {
  "kernelspec": {
   "display_name": "Python 3",
   "language": "python",
   "name": "python3"
  },
  "language_info": {
   "codemirror_mode": {
    "name": "ipython",
    "version": 3
   },
   "file_extension": ".py",
   "mimetype": "text/x-python",
   "name": "python",
   "nbconvert_exporter": "python",
   "pygments_lexer": "ipython3",
   "version": "3.7.3"
  }
 },
 "nbformat": 4,
 "nbformat_minor": 2
}
