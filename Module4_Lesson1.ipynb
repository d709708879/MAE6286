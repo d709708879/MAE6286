{
 "cells": [
  {
   "cell_type": "code",
   "execution_count": 21,
   "metadata": {},
   "outputs": [],
   "source": [
    "import numpy\n",
    "from matplotlib import pyplot\n",
    "%matplotlib inline"
   ]
  },
  {
   "cell_type": "code",
   "execution_count": 22,
   "metadata": {},
   "outputs": [],
   "source": [
    "L = 1.0\n",
    "alpha = 1.22 * 10**(-3)\n",
    "\n",
    "nx = 51\n",
    "dx = L / (nx - 1)\n",
    "\n",
    "\n",
    "\n",
    "x = numpy.linspace(0.0, L, num=nx)"
   ]
  },
  {
   "cell_type": "code",
   "execution_count": 23,
   "metadata": {},
   "outputs": [],
   "source": [
    "u0 = numpy.zeros(nx)\n",
    "u0[0] = 100.0\n",
    "u0[-1] = 0.0"
   ]
  },
  {
   "cell_type": "code",
   "execution_count": 24,
   "metadata": {},
   "outputs": [],
   "source": [
    "def ftcs (u0, nt, dt, dx, alpha):\n",
    "    u = u0.copy()\n",
    "    sigma = alpha * dt / dx**2\n",
    "    for n in range(nt):\n",
    "        u[0] = u0[0]\n",
    "        u[-1] = u0[-1]\n",
    "        u[1:-1] = (u[1:-1] + sigma * (u[:-2] - 2 * u[1:-1] + u[2:]))\n",
    "\n",
    "    return u"
   ]
  },
  {
   "cell_type": "code",
   "execution_count": 36,
   "metadata": {},
   "outputs": [
    {
     "data": {
      "image/png": "[encoded data removed]",
      "text/plain": [
       "<Figure size 432x288 with 1 Axes>"
      ]
     },
     "metadata": {
      "needs_background": "light"
     },
     "output_type": "display_data"
    }
   ],
   "source": [
    "nt = 1000\n",
    "sigma = 0.5\n",
    "dt = sigma * (dx**2 / alpha)\n",
    "\n",
    "T = ftcs (u0, nt, dt, dx, alpha)\n",
    "pyplot.plot(x, T);"
   ]
  },
  {
   "cell_type": "code",
   "execution_count": 37,
   "metadata": {},
   "outputs": [],
   "source": [
    "def ftcs_neumann (u0, nt, dt, dx, alpha, q):\n",
    "    u = u0.copy()\n",
    "    sigma = alpha * dt / dx**2\n",
    "    for n in range(nt):\n",
    "        # update interior points\n",
    "        u[1:-1] = (u[1:-1] + sigma * (u[:-2] - 2 * u[1:-1] + u[2:]))\n",
    "        # update left value\n",
    "        u[0] = u0[0]\n",
    "        # update right value\n",
    "        u[-1] = u[-2] + q * dx\n",
    "    return u"
   ]
  },
  {
   "cell_type": "code",
   "execution_count": 38,
   "metadata": {},
   "outputs": [
    {
     "data": {
      "image/png": "[encoded data removed]",
      "text/plain": [
       "<Figure size 432x288 with 1 Axes>"
      ]
     },
     "metadata": {
      "needs_background": "light"
     },
     "output_type": "display_data"
    }
   ],
   "source": [
    "T_neumann = ftcs_neumann (u0, nt, dt, dx, alpha, q=0)\n",
    "pyplot.plot(x, T_neumann)\n",
    "pyplot.xlim(0.0, L)\n",
    "pyplot.ylim(0.0, 100.0);"
   ]
  },
  {
   "cell_type": "code",
   "execution_count": null,
   "metadata": {},
   "outputs": [],
   "source": []
  }
 ],
 "metadata": {
  "kernelspec": {
   "display_name": "Python 3",
   "language": "python",
   "name": "python3"
  },
  "language_info": {
   "codemirror_mode": {
    "name": "ipython",
    "version": 3
   },
   "file_extension": ".py",
   "mimetype": "text/x-python",
   "name": "python",
   "nbconvert_exporter": "python",
   "pygments_lexer": "ipython3",
   "version": "3.7.3"
  }
 },
 "nbformat": 4,
 "nbformat_minor": 2
}
